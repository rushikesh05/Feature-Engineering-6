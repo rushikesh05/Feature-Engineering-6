{
  "nbformat": 4,
  "nbformat_minor": 0,
  "metadata": {
    "colab": {
      "provenance": []
    },
    "kernelspec": {
      "name": "python3",
      "display_name": "Python 3"
    },
    "language_info": {
      "name": "python"
    }
  },
  "cells": [
    {
      "cell_type": "markdown",
      "source": [
        "##Q1. Pearson correlation coefficient is a measure of the linear relationship between two variables. Suppose you have collected data on the amount of time students spend studying for an exam and their final exam scores. Calculate the Pearson correlation coefficient between these two variables and interpret the result.\n",
        "\n",
        "#Ans:---\n",
        "\n",
        "\n",
        "###To calculate the Pearson correlation coefficient, we need to first calculate the covariance between the two variables and the standard deviation of each variable. Let's assume we have collected data on 10 students, and their study time (in hours) and exam scores (out of 100) are as follows:\n",
        "```\n",
        "Student\tStudy time (hours)\tExam score (out of 100)\n",
        "1\t5\t75\n",
        "2\t4\t70\n",
        "3\t3\t65\n",
        "4\t6\t80\n",
        "5\t5\t75\n",
        "6\t7\t85\n",
        "7\t2\t60\n",
        "8\t1\t50\n",
        "9\t4\t70\n",
        "10\t6\t80\n",
        "```\n",
        "###First, we need to calculate the mean and standard deviation of each variable:\n",
        "\n",
        "```\n",
        "Mean study time = (5+4+3+6+5+7+2+1+4+6)/10 = 4.3 hours\n",
        "Standard deviation of study time = 1.79 hours\n",
        "\n",
        "Mean exam score = (75+70+65+80+75+85+60+50+70+80)/10 = 70\n",
        "Standard deviation of exam score = 12.25\n",
        "```\n",
        "###Next, we need to calculate the covariance between the two variables:\n",
        "\n",
        "```\n",
        "Covariance = Σ[(study time - mean study time) * (exam score - mean exam score)] / (n-1)\n",
        "= [(5-4.3)(75-70) + (4-4.3)(70-70) + (3-4.3)(65-70) + (6-4.3)(80-70) + (5-4.3)(75-70) + (7-4.3)(85-70) + (2-4.3)(60-70) + (1-4.3)(50-70) + (4-4.3)(70-70) + (6-4.3)(80-70)] / 9\n",
        "= 69.78\n",
        "```\n",
        "###Finally, we can calculate the Pearson correlation coefficient:\n",
        "```\n",
        "Pearson correlation coefficient = covariance / (standard deviation of study time * standard deviation of exam score)\n",
        "= 69.78 / (1.79 * 12.25)\n",
        "= 4.94\n",
        "```\n",
        "###The Pearson correlation coefficient ranges from -1 to 1, with -1 indicating a perfect negative linear relationship, 0 indicating no linear relationship, and 1 indicating a perfect positive linear relationship. In this case, the Pearson correlation coefficient is positive (4.94), indicating a strong positive linear relationship between study time and exam scores. This means that as the amount of time students spend studying for the exam increases, their final exam scores tend to increase as well. However, it's important to note that correlation does not imply causation, and there may be other factors that influence exam scores besides study time."
      ],
      "metadata": {
        "id": "ojXDkWaOD5oJ"
      }
    },
    {
      "cell_type": "markdown",
      "source": [
        "##Q2. Spearman's rank correlation is a measure of the monotonic relationship between two variables. Suppose you have collected data on the amount of sleep individuals get each night and their overall job satisfaction level on a scale of 1 to 10. Calculate the Spearman's rank correlation between these two variables and interpret the result.\n",
        "\n",
        "#Ans:---\n",
        "\n",
        "###To calculate the Spearman's rank correlation, we need to first rank the data on each variable and calculate the difference between the ranks for each pair of observations. Let's assume we have collected data on 8 individuals, and their sleep time (in hours) and job satisfaction level (on a scale of 1 to 10) are as follows:\n",
        "\n",
        "```\n",
        "Individual\tSleep time (hours)\tJob satisfaction level\n",
        "1\t7\t8\n",
        "2\t6\t7\n",
        "3\t8\t9\n",
        "4\t6\t6\n",
        "5\t7\t8\n",
        "6\t9\t10\n",
        "7\t5\t5\n",
        "8\t8\t9\n",
        "```\n",
        "###First, we need to rank the data on each variable, with the lowest value receiving a rank of 1, the next lowest a rank of 2, and so on. \n",
        "###If there are ties, we give the average of the ranks to the tied values. In this case, the ranks are as follows:\n",
        "```\n",
        "Individual\tSleep time (hours)\tJob satisfaction level\n",
        "1\t3\t5.5\n",
        "2\t1.5\t3.5\n",
        "3\t6\t7.5\n",
        "4\t1.5\t2.5\n",
        "5\t3\t5.5\n",
        "6\t8\t8.5\n",
        "7\t1\t1.5\n",
        "8\t6\t7.5\n",
        "```\n",
        "###Next, we need to calculate the difference between the ranks for each pair of observations:\n",
        "\n",
        "```\n",
        "Individual pair\tDifference in sleep time ranks\tDifference in job satisfaction ranks\n",
        "1,2\t1.5\t2.0\n",
        "1,3\t3.0\t2.0\n",
        "1,4\t1.5\t3.0\n",
        "1,5\t0.0\t2.0\n",
        "1,6\t5.0\t0.0\n",
        "1,7\t2.0\t4.0\n",
        "1,8\t3.0\t2.0\n",
        "2,3\t4.5\t4.0\n",
        "2,4\t0.0\t1.0\n",
        "2,5\t1.5\t1.5\n",
        "2,6\t6.5\t5.0\n",
        "2,7\t0.5\t2.0\n",
        "2,8\t4.5\t4.0\n",
        "3,4\t4.5\t2.0\n",
        "3,5\t3.0\t2.0\n",
        "3,6\t2.0\t1.0\n",
        "3,7\t5.0\t6.0\n",
        "```\n",
        "\n",
        "###here are the steps to calculate the Spearman's rank correlation coefficient:\n",
        "\n",
        "###Step 1: Rank the values of both variables from lowest to highest, assigning ranks from 1 to n (where n is the number of observations).\n",
        "```\n",
        "Sleep Time: 6, 7, 7, 8, 8, 9, 9, 10\n",
        "Rank: 1, 2, 2, 4, 4, 6, 6, 8\n",
        "\n",
        "Job Satisfaction: 2, 3, 4, 5, 6, 7, 8, 9\n",
        "Rank: 1, 2, 3, 4, 5, 6, 7, 8\n",
        "```\n",
        "###Step 2: Calculate the differences between the ranks for each pair of observations.\n",
        "\n",
        "```\n",
        "Sleep Time: 6, 7, 7, 8, 8, 9, 9, 10\n",
        "Rank: 1, 2, 2, 4, 4, 6, 6, 8\n",
        "\n",
        "Job Satisfaction: 2, 3, 4, 5, 6, 7, 8, 9\n",
        "Rank: 1, 2, 3, 4, 5, 6, 7, 8\n",
        "\n",
        "Difference: 0, 0, -1, -1, -1, -1, -1, 0\n",
        "```\n",
        "\n",
        "###Step 3: Square the differences between the ranks.\n",
        "\n",
        "    Squared Difference: 0, 0, 1, 1, 1, 1, 1, 0\n",
        "\n",
        "###Step 4: Calculate the sum of the squared differences.\n",
        "\n",
        "    Sum of Squared Differences: 5\n",
        "\n",
        "###Step 5: Apply the formula to calculate the Spearman's rank correlation coefficient.\n",
        "```\n",
        "n = 8\n",
        "r_s = 1 - (6 * Sum of Squared Differences) / (n * (n^2 - 1))\n",
        "= 1 - (6 * 5) / (8 * 63)\n",
        "= 1 - 0.476\n",
        "= 0.524\n",
        "```\n",
        "###The Spearman's rank correlation coefficient between sleep time and job satisfaction level is 0.524. This indicates that there is a moderate positive monotonic relationship between these two variables. In other words, individuals who get more sleep tend to have higher job satisfaction levels, while individuals who get less sleep tend to have lower job satisfaction levels."
      ],
      "metadata": {
        "id": "zfd9a9RoGCr4"
      }
    },
    {
      "cell_type": "markdown",
      "source": [
        "##Q3. Suppose you are conducting a study to examine the relationship between the number of hours of exercise per week and body mass index (BMI) in a sample of adults. You collected data on both variables for 50 participants. Calculate the Pearson correlation coefficient and the Spearman's rank correlation between these two variables and compare the results.\n",
        "\n",
        "#Ans:---\n",
        "\n",
        "###Here's an example of how to calculate these correlations using sample data:\n",
        "```\n",
        "Hours of Exercise\tBMI\n",
        "2\t22\n",
        "3\t23\n",
        "4\t25\n",
        "4\t24\n",
        "5\t26\n",
        "5\t28\n",
        "6\t29\n",
        "6\t30\n",
        "7\t31\n",
        "8\t33\n",
        "```\n",
        "till 50 \n",
        "random data ...\n",
        "\n",
        "\n",
        "```\n",
        "The mean and standard deviation for each variable are:\n",
        "x_mean = 5.4\n",
        "y_mean = 26.1\n",
        "Sx = 2.02\n",
        "Sy = 3.70\n",
        "```\n",
        "###Using the Pearson correlation coefficient formula, we get:\n",
        "```\n",
        "r = Σ[(x - x_mean)/Sx][(y - y_mean)/Sy] / (n-1)\n",
        "= [(2-5.4)/2.02 * (22-26.1)/3.70 + (3-5.4)/2.02 * (23-26.1)/3.70 + ... + (8-5.4)/2.02 * (33-26.1)/3.70] / (10-1)\n",
        "= 0.89\n",
        "```\n",
        "###Therefore, the Pearson correlation coefficient is 0.89, indicating a strong positive correlation between the number of hours of exercise per week and BMI.\n",
        "\n",
        "###Using the Spearman's rank correlation formula, we first need to rank the observations for each variable:\n",
        "```\n",
        "Hours of Exercise\tRank\tBMI\tRank\n",
        "2\t1\t22\t1\n",
        "3\t2\t23\t2\n",
        "4\t3.5\t25\t3.5\n",
        "4\t3.5\t24\t3\n",
        "5\t5.5\t26\t5.5\n",
        "5\t5.5\t28\t8\n",
        "6\t7.5\t29\t9\n",
        "6\t7.5\t30\t10\n",
        "7\t9\t31\t11\n",
        "8\t10\t33\t12\n",
        "```\n",
        "###Using the Spearman's rank correlation formula, we get:\n",
        "```\n",
        "rs = 1 - 6Σd^2 / n(n^2-1)\n",
        "= 1 - 6[(1-1)^2 + (2-2)^2 + (3.5-3.5)^2 + (3.5-3)^2 + (5.5-5.5)^2 + (5.5-8)^2 + (7.5-9)^2 + (7.5-10)^2 + (9-11)^2 + (10-12)^2] / 10(10^2-1)\n",
        "= 1 - 6(4.5) / 990\n",
        "= 0.93\n",
        "```\n",
        "###Therefore, the Spearman's rank correlation is 0.93, which is also a strong positive correlation between the number of hours of exercise per week and BMI.\n",
        "\n",
        "####Comparing the results, we see that both the Pearson and Spearman's correlation coefficients are quite similar (0.89 and 0.93, respectively) and indicate a strong positive correlation between the two variables. However, the Pearson correlation coefficient assumes that the relationship between the variables is linear, while the Spearman's rank correlation is a nonparametric measure that does not make any assumptions about the shape of the relationship. In cases where the relationship is not linear or the data is not normally distributed, the Spearman's rank correlation may be more appropriate."
      ],
      "metadata": {
        "id": "L0FAoHPVK3MA"
      }
    },
    {
      "cell_type": "markdown",
      "source": [
        "##Q4. A researcher is interested in examining the relationship between the number of hours individuals spend watching television per day and their level of physical activity. The researcher collected data on both variables from a sample of 50 participants. Calculate the Pearson correlation coefficient between these two variables.\n",
        "\n",
        "#Ans:---\n",
        "\n",
        "###here's an example of how to calculate the Pearson correlation coefficient using a set of sample data:\n",
        "```\n",
        "Hours of TV\tPhysical Activity\n",
        "1\t5\n",
        "2\t4\n",
        "3\t3\n",
        "4\t2\n",
        "5\t1\n",
        "6\t1\n",
        "```\n",
        "\n",
        "random 50 data \n",
        "\n",
        "\n",
        "```\n",
        "The mean and standard deviation for each variable are:\n",
        "x_mean = 3.5\n",
        "y_mean = 2.67\n",
        "Sx = 1.87\n",
        "Sy = 1.63\n",
        "```\n",
        "###Using the Pearson correlation coefficient formula, we get:\n",
        "```\n",
        "r = Σ[(x - x_mean)/Sx][(y - y_mean)/Sy] / (n-1)\n",
        "= [(1-3.5)/1.87 * (5-2.67)/1.63 + (2-3.5)/1.87 * (4-2.67)/1.63 + ... + (6-3.5)/1.87 * (1-2.67)/1.63] / (6-1)\n",
        "= -0.997\n",
        "```\n",
        "####Therefore, the Pearson correlation coefficient is -0.997, indicating a strong negative correlation between the number of hours spent watching TV per day and the level of physical activity. This suggests that as individuals spend more time watching TV, they are likely to engage in less physical activity. However, it is important to note that correlation does not necessarily imply causation, and other factors could be influencing this relationship.\n"
      ],
      "metadata": {
        "id": "YISlxyO3ZAsc"
      }
    },
    {
      "cell_type": "markdown",
      "source": [
        "##Q5. A survey was conducted to examine the relationship between age and preference for a particular brand of soft drink. The survey results are shown below:\n",
        "\n",
        "#Ans:--\n",
        "\n",
        "\n",
        "###To analyze the relationship between age and preference for a particular brand of soft drink, we can use a frequency table to summarize the data:\n",
        "```\n",
        "Soft drink preference\tAge (years)\tFrequency\n",
        "Coke\t19\t1\n",
        "Coke\t25\t1\n",
        "Coke\t28\t1\n",
        "Pepsi\t31\t1\n",
        "Pepsi\t42\t1\n",
        "Mountain Dew\t37\t1\n",
        "\n",
        "```\n",
        "###From this frequency table, we can see that the six participants in the survey had different soft drink preferences and ages. There are no duplicate values of soft drink preference or age.\n",
        "\n",
        "###It is difficult to draw any firm conclusions about the relationship between age and soft drink preference based on this small sample size. However, we could calculate some summary statistics to describe the data:\n",
        "```\n",
        "Mean age: (19 + 25 + 28 + 31 + 37 + 42) / 6 = 30.3 years\n",
        "Median age: The middle value in the ordered list of ages is 31.\n",
        "Mode age: The most common age is not applicable since there are no duplicate ages.\n",
        "```\n",
        "###Most popular soft drink: Coke and Pepsi are equally popular since each was chosen by two participants, while Mountain Dew was chosen by one participant."
      ],
      "metadata": {
        "id": "vRLgDezNNI14"
      }
    },
    {
      "cell_type": "markdown",
      "source": [
        "##Q6. A company is interested in examining the relationship between the number of sales calls made per day and the number of sales made per week. The company collected data on both variables from a sample of 30 sales representatives. Calculate the Pearson correlation coefficient between these two variables.\n",
        "\n",
        "#Ans:--\n",
        "\n",
        "### calculate the Pearson correlation coefficient between the number of sales calls made per day and the number of sales made per week using Python:"
      ],
      "metadata": {
        "id": "ku73kHG0ONKa"
      }
    },
    {
      "cell_type": "code",
      "source": [
        "import numpy as np\n",
        "\n",
        "# create arrays of sales calls and sales made\n",
        "sales_calls = np.array([10, 12, 15, 18, 20, 22, 24, 25, 26, 28, 30, 31, 32, 33, 34, 35, 36, 38, 40, 42, 44, 45, 46, 48, 50, 52, 55, 58, 60, 62])\n",
        "sales_made = np.array([1, 2, 2, 2, 3, 3, 3, 4, 4, 4, 4, 4, 5, 5, 5, 5, 5, 5, 5, 6, 6, 6, 6, 6, 7, 7, 7, 7, 8, 9])\n",
        "\n",
        "# calculate Pearson correlation coefficient\n",
        "r = np.corrcoef(sales_calls, sales_made)[0, 1]\n",
        "\n",
        "r\n"
      ],
      "metadata": {
        "id": "qsxp5E9AJfop",
        "colab": {
          "base_uri": "https://localhost:8080/"
        },
        "outputId": "16bc90ea-c699-40a9-bc10-1e64c7018d54"
      },
      "execution_count": 2,
      "outputs": [
        {
          "output_type": "execute_result",
          "data": {
            "text/plain": [
              "0.9806337755788223"
            ]
          },
          "metadata": {},
          "execution_count": 2
        }
      ]
    },
    {
      "cell_type": "markdown",
      "source": [
        "###The resulting Pearson correlation coefficient is 0.980, which indicates a strong positive correlation between the number of sales calls made per day and the number of sales made per week. In other words, sales representatives who make more sales calls tend to make more sales. However, correlation does not imply causation, and there may be other factors that influence sales success, such as product quality, customer needs, market conditions, and interpersonal skills. Therefore, the company should use caution when interpreting and using these findings for decision-making."
      ],
      "metadata": {
        "id": "bh3-qoJ0PT2Z"
      }
    },
    {
      "cell_type": "code",
      "source": [],
      "metadata": {
        "id": "yxh6n5vFPNQe"
      },
      "execution_count": null,
      "outputs": []
    }
  ]
}